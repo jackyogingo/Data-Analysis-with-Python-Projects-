{
 "cells": [
  {
   "cell_type": "code",
   "execution_count": 1,
   "metadata": {},
   "outputs": [],
   "source": [
    "import pandas as pd"
   ]
  },
  {
   "cell_type": "markdown",
   "metadata": {},
   "source": [
    "### Funnel for Cool T-Shirts Inc."
   ]
  },
  {
   "cell_type": "markdown",
   "metadata": {},
   "source": [
    "Cool T-Shirts Inc. has asked me to analyze data on visits to their website. My job is to build a funnel, which is a description of how many people continue to the next step of a multi-step process.\n",
    "\n",
    "In this case, our funnel is going to describe the following process:\n",
    "\n",
    "A user visits CoolTShirts.com\n",
    "\n",
    "A user adds a t-shirt to their cart\n",
    "\n",
    "A user clicks “checkout”\n",
    "\n",
    "A user actually purchases a t-shirt"
   ]
  },
  {
   "cell_type": "code",
   "execution_count": 2,
   "metadata": {},
   "outputs": [],
   "source": [
    "# Loading and reading data from the csv files "
   ]
  },
  {
   "cell_type": "code",
   "execution_count": 3,
   "metadata": {
    "scrolled": true
   },
   "outputs": [],
   "source": [
    "cart = pd.read_csv(r'C:\\Users\\p\\Documents\\Data Manipulation  with Pandas\\cart.csv', encoding = \"ISO-8859-1\")"
   ]
  },
  {
   "cell_type": "code",
   "execution_count": 4,
   "metadata": {},
   "outputs": [],
   "source": [
    "checkout = pd.read_csv(r'C:\\Users\\p\\Documents\\Data Manipulation  with Pandas\\checkout.csv', encoding = \"ISO-8859-1\")"
   ]
  },
  {
   "cell_type": "code",
   "execution_count": 5,
   "metadata": {},
   "outputs": [],
   "source": [
    "purchase = pd.read_csv(r'C:\\Users\\p\\Documents\\Data Manipulation  with Pandas\\purchase.csv', encoding = \"ISO-8859-1\")"
   ]
  },
  {
   "cell_type": "code",
   "execution_count": 6,
   "metadata": {},
   "outputs": [],
   "source": [
    "visits = pd.read_csv(r'C:\\Users\\p\\Documents\\Data Manipulation  with Pandas\\visits.csv', encoding = \"ISO-8859-1\")"
   ]
  },
  {
   "cell_type": "markdown",
   "metadata": {},
   "source": [
    "Inspect the DataFrames using print and head:\n",
    "\n",
    "visits lists all of the users who have visited the website\n",
    "\n",
    "cart lists all of the users who have added a t-shirt to their cart\n",
    "\n",
    "checkout lists all of the users who have started the checkout\n",
    "\n",
    "purchase lists all of the users who have purchased a t-shirt"
   ]
  },
  {
   "cell_type": "code",
   "execution_count": 7,
   "metadata": {},
   "outputs": [
    {
     "name": "stdout",
     "output_type": "stream",
     "text": [
      "                                user_id        cart_time\n",
      "0  2be90e7c-9cca-44e0-bcc5-124b945ff168  11/7/2017 20:45\n",
      "1  4397f73f-1da3-4ab3-91af-762792e25973   5/27/2017 1:35\n",
      "2  a9db3d4b-0a0a-4398-a55a-ebb2c7adf663   3/4/2017 10:38\n",
      "3  b594862a-36c5-47d5-b818-6e9512b939b3   9/27/2017 8:22\n",
      "4  a68a16e2-94f0-4ce8-8ce3-784af0bbb974  7/26/2017 15:48\n"
     ]
    }
   ],
   "source": [
    "# Inspecting the cart DataFrame using print and head:\n",
    "\n",
    "print(cart.head()) "
   ]
  },
  {
   "cell_type": "code",
   "execution_count": 8,
   "metadata": {},
   "outputs": [
    {
     "name": "stdout",
     "output_type": "stream",
     "text": [
      "                                user_id    checkout_time\n",
      "0  d33bdc47-4afa-45bc-b4e4-dbe948e34c0d   6/25/2017 9:29\n",
      "1  4ac186f0-9954-4fea-8a27-c081e428e34e   4/7/2017 20:11\n",
      "2  3c9c78a7-124a-4b77-8d2e-e1926e011e7d  7/13/2017 11:38\n",
      "3  89fe330a-8966-4756-8f7c-3bdbcd47279a  4/20/2017 16:15\n",
      "4  3ccdaf69-2d30-40de-b083-51372881aedd   1/8/2017 20:52\n"
     ]
    }
   ],
   "source": [
    "# Inspecting the checkout DataFrame using print and head:\n",
    "\n",
    "print(checkout.head()) "
   ]
  },
  {
   "cell_type": "code",
   "execution_count": 9,
   "metadata": {},
   "outputs": [
    {
     "name": "stdout",
     "output_type": "stream",
     "text": [
      "                                user_id     purchase_time\n",
      "0  4b44ace4-2721-47a0-b24b-15fbfa2abf85    5/11/2017 4:25\n",
      "1  02e684ae-a448-408f-a9ff-dcb4a5c99aac     9/5/2017 8:45\n",
      "2  4b4bc391-749e-4b90-ab8f-4f6e3c84d6dc  11/20/2017 20:49\n",
      "3  a5dbb25f-3c36-4103-9030-9f7c6241cd8d   1/22/2017 15:18\n",
      "4  46a3186d-7f5a-4ab9-87af-84d05bfd4867   6/11/2017 11:32\n"
     ]
    }
   ],
   "source": [
    "# Inspecting the purchase DataFrame using print and head:\n",
    "\n",
    "print(purchase.head()) "
   ]
  },
  {
   "cell_type": "code",
   "execution_count": 10,
   "metadata": {},
   "outputs": [
    {
     "name": "stdout",
     "output_type": "stream",
     "text": [
      "                                user_id       visit_time\n",
      "0  943647ef-3682-4750-a2e1-918ba6f16188   4/7/2017 15:14\n",
      "1  0c3a3dd0-fb64-4eac-bf84-ba069ce409f2  1/26/2017 14:24\n",
      "2  6e0b2d60-4027-4d9a-babd-0e7d40859fb1   8/20/2017 8:23\n",
      "3  6879527e-c5a6-4d14-b2da-50b85212b0ab  11/4/2017 18:15\n",
      "4  a84327ff-5daa-4ba1-b789-d5b4caf81e96  2/27/2017 11:25\n"
     ]
    }
   ],
   "source": [
    "# Inspecting the visits DataFrame using print and head:\n",
    "\n",
    "print(visits.head())"
   ]
  },
  {
   "cell_type": "markdown",
   "metadata": {},
   "source": [
    "Combine visits and cart using a left merge."
   ]
  },
  {
   "cell_type": "code",
   "execution_count": 11,
   "metadata": {},
   "outputs": [
    {
     "data": {
      "text/html": [
       "<div>\n",
       "<style scoped>\n",
       "    .dataframe tbody tr th:only-of-type {\n",
       "        vertical-align: middle;\n",
       "    }\n",
       "\n",
       "    .dataframe tbody tr th {\n",
       "        vertical-align: top;\n",
       "    }\n",
       "\n",
       "    .dataframe thead th {\n",
       "        text-align: right;\n",
       "    }\n",
       "</style>\n",
       "<table border=\"1\" class=\"dataframe\">\n",
       "  <thead>\n",
       "    <tr style=\"text-align: right;\">\n",
       "      <th></th>\n",
       "      <th>user_id</th>\n",
       "      <th>visit_time</th>\n",
       "      <th>cart_time</th>\n",
       "    </tr>\n",
       "  </thead>\n",
       "  <tbody>\n",
       "    <tr>\n",
       "      <th>0</th>\n",
       "      <td>943647ef-3682-4750-a2e1-918ba6f16188</td>\n",
       "      <td>4/7/2017 15:14</td>\n",
       "      <td>NaN</td>\n",
       "    </tr>\n",
       "    <tr>\n",
       "      <th>1</th>\n",
       "      <td>0c3a3dd0-fb64-4eac-bf84-ba069ce409f2</td>\n",
       "      <td>1/26/2017 14:24</td>\n",
       "      <td>1/26/2017 14:44</td>\n",
       "    </tr>\n",
       "    <tr>\n",
       "      <th>2</th>\n",
       "      <td>6e0b2d60-4027-4d9a-babd-0e7d40859fb1</td>\n",
       "      <td>8/20/2017 8:23</td>\n",
       "      <td>8/20/2017 8:31</td>\n",
       "    </tr>\n",
       "    <tr>\n",
       "      <th>3</th>\n",
       "      <td>6879527e-c5a6-4d14-b2da-50b85212b0ab</td>\n",
       "      <td>11/4/2017 18:15</td>\n",
       "      <td>NaN</td>\n",
       "    </tr>\n",
       "    <tr>\n",
       "      <th>4</th>\n",
       "      <td>a84327ff-5daa-4ba1-b789-d5b4caf81e96</td>\n",
       "      <td>2/27/2017 11:25</td>\n",
       "      <td>NaN</td>\n",
       "    </tr>\n",
       "    <tr>\n",
       "      <th>5</th>\n",
       "      <td>7bc62113-d51d-4e6b-85e0-1cf29e3de74a</td>\n",
       "      <td>6/3/2017 20:05</td>\n",
       "      <td>NaN</td>\n",
       "    </tr>\n",
       "    <tr>\n",
       "      <th>6</th>\n",
       "      <td>6f22cd44-bc63-4449-a9af-2651859da2f9</td>\n",
       "      <td>3/18/2017 23:09</td>\n",
       "      <td>NaN</td>\n",
       "    </tr>\n",
       "    <tr>\n",
       "      <th>7</th>\n",
       "      <td>49a6399b-c095-4e42-92eb-af90abe2bb6a</td>\n",
       "      <td>1/10/2017 12:09</td>\n",
       "      <td>NaN</td>\n",
       "    </tr>\n",
       "    <tr>\n",
       "      <th>8</th>\n",
       "      <td>653c095d-fd74-40dd-ae3b-5a69a2613629</td>\n",
       "      <td>6/27/2017 19:21</td>\n",
       "      <td>NaN</td>\n",
       "    </tr>\n",
       "    <tr>\n",
       "      <th>9</th>\n",
       "      <td>3d9fdac1-aae3-4a01-b448-934d12047468</td>\n",
       "      <td>9/24/2017 6:43</td>\n",
       "      <td>NaN</td>\n",
       "    </tr>\n",
       "  </tbody>\n",
       "</table>\n",
       "</div>"
      ],
      "text/plain": [
       "                                user_id       visit_time        cart_time\n",
       "0  943647ef-3682-4750-a2e1-918ba6f16188   4/7/2017 15:14              NaN\n",
       "1  0c3a3dd0-fb64-4eac-bf84-ba069ce409f2  1/26/2017 14:24  1/26/2017 14:44\n",
       "2  6e0b2d60-4027-4d9a-babd-0e7d40859fb1   8/20/2017 8:23   8/20/2017 8:31\n",
       "3  6879527e-c5a6-4d14-b2da-50b85212b0ab  11/4/2017 18:15              NaN\n",
       "4  a84327ff-5daa-4ba1-b789-d5b4caf81e96  2/27/2017 11:25              NaN\n",
       "5  7bc62113-d51d-4e6b-85e0-1cf29e3de74a   6/3/2017 20:05              NaN\n",
       "6  6f22cd44-bc63-4449-a9af-2651859da2f9  3/18/2017 23:09              NaN\n",
       "7  49a6399b-c095-4e42-92eb-af90abe2bb6a  1/10/2017 12:09              NaN\n",
       "8  653c095d-fd74-40dd-ae3b-5a69a2613629  6/27/2017 19:21              NaN\n",
       "9  3d9fdac1-aae3-4a01-b448-934d12047468   9/24/2017 6:43              NaN"
      ]
     },
     "execution_count": 11,
     "metadata": {},
     "output_type": "execute_result"
    }
   ],
   "source": [
    "# Combining visits and cart using a left merge to find customers who visited the website and added a t-shirt to their carts\n",
    "\n",
    "visits_cart = pd.merge(visits, cart, how ='left')\n",
    "\n",
    "visits_cart.head(10)"
   ]
  },
  {
   "cell_type": "markdown",
   "metadata": {},
   "source": [
    "How long is your merged DataFrame?"
   ]
  },
  {
   "cell_type": "code",
   "execution_count": 12,
   "metadata": {},
   "outputs": [
    {
     "data": {
      "text/plain": [
       "2000"
      ]
     },
     "execution_count": 12,
     "metadata": {},
     "output_type": "execute_result"
    }
   ],
   "source": [
    "# finding the length of the merged DataFrame\n",
    "\n",
    "visits_cart_rows = len(visits_cart)\n",
    "\n",
    "visits_cart_rows"
   ]
  },
  {
   "cell_type": "markdown",
   "metadata": {},
   "source": [
    "How many of the timestamps are null for the column cart_time?\n",
    "\n",
    "What do these null rows mean?"
   ]
  },
  {
   "cell_type": "code",
   "execution_count": 13,
   "metadata": {},
   "outputs": [
    {
     "data": {
      "text/plain": [
       "1652"
      ]
     },
     "execution_count": 13,
     "metadata": {},
     "output_type": "execute_result"
    }
   ],
   "source": [
    "# finding the number of timestamps that are null for the column cart_time\n",
    "\n",
    "# these are people who visited the website but did not add a t-shirt to their carts\n",
    "\n",
    "Null_cart_time = len(visits_cart[visits_cart.cart_time.isnull()])\n",
    "\n",
    "Null_cart_time"
   ]
  },
  {
   "cell_type": "markdown",
   "metadata": {},
   "source": [
    "What percent of users who visited Cool T-Shirts Inc. ended up not placing a t-shirt in their cart?\n",
    "##### Note: \n",
    "To calculate percentages, it will be helpful to turn either the numerator or the denominator into a float, by using float(), with the number to convert passed in as input. Otherwise, Python will use integer division, which truncates decimal points."
   ]
  },
  {
   "cell_type": "code",
   "execution_count": 14,
   "metadata": {},
   "outputs": [
    {
     "data": {
      "text/plain": [
       "82.6"
      ]
     },
     "execution_count": 14,
     "metadata": {},
     "output_type": "execute_result"
    }
   ],
   "source": [
    "# percent of users who visited Cool T-Shirts Inc. but did not place a t-shirt in their cart\n",
    "\n",
    "Null_cart_time_percent = (float(Null_cart_time) / (visits_cart_rows)) * 100\n",
    "\n",
    "Null_cart_time_percent"
   ]
  },
  {
   "cell_type": "markdown",
   "metadata": {},
   "source": [
    "Repeat the left merge for cart and checkout and count null values. What percentage of users put items in their cart, but did not proceed to checkout?"
   ]
  },
  {
   "cell_type": "code",
   "execution_count": 15,
   "metadata": {},
   "outputs": [
    {
     "data": {
      "text/html": [
       "<div>\n",
       "<style scoped>\n",
       "    .dataframe tbody tr th:only-of-type {\n",
       "        vertical-align: middle;\n",
       "    }\n",
       "\n",
       "    .dataframe tbody tr th {\n",
       "        vertical-align: top;\n",
       "    }\n",
       "\n",
       "    .dataframe thead th {\n",
       "        text-align: right;\n",
       "    }\n",
       "</style>\n",
       "<table border=\"1\" class=\"dataframe\">\n",
       "  <thead>\n",
       "    <tr style=\"text-align: right;\">\n",
       "      <th></th>\n",
       "      <th>user_id</th>\n",
       "      <th>cart_time</th>\n",
       "      <th>checkout_time</th>\n",
       "    </tr>\n",
       "  </thead>\n",
       "  <tbody>\n",
       "    <tr>\n",
       "      <th>0</th>\n",
       "      <td>2be90e7c-9cca-44e0-bcc5-124b945ff168</td>\n",
       "      <td>11/7/2017 20:45</td>\n",
       "      <td>11/7/2017 21:14</td>\n",
       "    </tr>\n",
       "    <tr>\n",
       "      <th>1</th>\n",
       "      <td>2be90e7c-9cca-44e0-bcc5-124b945ff168</td>\n",
       "      <td>11/7/2017 20:45</td>\n",
       "      <td>11/7/2017 20:50</td>\n",
       "    </tr>\n",
       "    <tr>\n",
       "      <th>2</th>\n",
       "      <td>2be90e7c-9cca-44e0-bcc5-124b945ff168</td>\n",
       "      <td>11/7/2017 20:45</td>\n",
       "      <td>11/7/2017 21:11</td>\n",
       "    </tr>\n",
       "    <tr>\n",
       "      <th>3</th>\n",
       "      <td>4397f73f-1da3-4ab3-91af-762792e25973</td>\n",
       "      <td>5/27/2017 1:35</td>\n",
       "      <td>NaN</td>\n",
       "    </tr>\n",
       "    <tr>\n",
       "      <th>4</th>\n",
       "      <td>a9db3d4b-0a0a-4398-a55a-ebb2c7adf663</td>\n",
       "      <td>3/4/2017 10:38</td>\n",
       "      <td>3/4/2017 11:04</td>\n",
       "    </tr>\n",
       "    <tr>\n",
       "      <th>5</th>\n",
       "      <td>b594862a-36c5-47d5-b818-6e9512b939b3</td>\n",
       "      <td>9/27/2017 8:22</td>\n",
       "      <td>9/27/2017 8:26</td>\n",
       "    </tr>\n",
       "    <tr>\n",
       "      <th>6</th>\n",
       "      <td>a68a16e2-94f0-4ce8-8ce3-784af0bbb974</td>\n",
       "      <td>7/26/2017 15:48</td>\n",
       "      <td>NaN</td>\n",
       "    </tr>\n",
       "    <tr>\n",
       "      <th>7</th>\n",
       "      <td>0c998868-9961-490b-8ec2-9981ba667027</td>\n",
       "      <td>11/27/2017 8:54</td>\n",
       "      <td>11/27/2017 9:18</td>\n",
       "    </tr>\n",
       "    <tr>\n",
       "      <th>8</th>\n",
       "      <td>f783c680-1d9a-437d-9f45-7827299b78fa</td>\n",
       "      <td>6/25/2017 8:08</td>\n",
       "      <td>6/25/2017 8:28</td>\n",
       "    </tr>\n",
       "    <tr>\n",
       "      <th>9</th>\n",
       "      <td>f783c680-1d9a-437d-9f45-7827299b78fa</td>\n",
       "      <td>6/25/2017 8:08</td>\n",
       "      <td>6/25/2017 8:27</td>\n",
       "    </tr>\n",
       "  </tbody>\n",
       "</table>\n",
       "</div>"
      ],
      "text/plain": [
       "                                user_id        cart_time    checkout_time\n",
       "0  2be90e7c-9cca-44e0-bcc5-124b945ff168  11/7/2017 20:45  11/7/2017 21:14\n",
       "1  2be90e7c-9cca-44e0-bcc5-124b945ff168  11/7/2017 20:45  11/7/2017 20:50\n",
       "2  2be90e7c-9cca-44e0-bcc5-124b945ff168  11/7/2017 20:45  11/7/2017 21:11\n",
       "3  4397f73f-1da3-4ab3-91af-762792e25973   5/27/2017 1:35              NaN\n",
       "4  a9db3d4b-0a0a-4398-a55a-ebb2c7adf663   3/4/2017 10:38   3/4/2017 11:04\n",
       "5  b594862a-36c5-47d5-b818-6e9512b939b3   9/27/2017 8:22   9/27/2017 8:26\n",
       "6  a68a16e2-94f0-4ce8-8ce3-784af0bbb974  7/26/2017 15:48              NaN\n",
       "7  0c998868-9961-490b-8ec2-9981ba667027  11/27/2017 8:54  11/27/2017 9:18\n",
       "8  f783c680-1d9a-437d-9f45-7827299b78fa   6/25/2017 8:08   6/25/2017 8:28\n",
       "9  f783c680-1d9a-437d-9f45-7827299b78fa   6/25/2017 8:08   6/25/2017 8:27"
      ]
     },
     "execution_count": 15,
     "metadata": {},
     "output_type": "execute_result"
    }
   ],
   "source": [
    "# Combining cart and checkout using a left merge to find customers who added a t-shirt to their carts and started checkout \n",
    "\n",
    "cart_checkout = pd.merge(cart, checkout, how = 'left')\n",
    "\n",
    "cart_checkout.head(10)"
   ]
  },
  {
   "cell_type": "code",
   "execution_count": 16,
   "metadata": {},
   "outputs": [
    {
     "data": {
      "text/plain": [
       "122"
      ]
     },
     "execution_count": 16,
     "metadata": {},
     "output_type": "execute_result"
    }
   ],
   "source": [
    "# number of rows of of people who added a t-shirt to cart but did not begin checkout\n",
    "\n",
    "Null_cart_checkout = len(cart_checkout[cart_checkout.checkout_time.isnull()])\n",
    "\n",
    "Null_cart_checkout"
   ]
  },
  {
   "cell_type": "code",
   "execution_count": 17,
   "metadata": {},
   "outputs": [
    {
     "data": {
      "text/plain": [
       "482"
      ]
     },
     "execution_count": 17,
     "metadata": {},
     "output_type": "execute_result"
    }
   ],
   "source": [
    "# length of cart_checkout showing total no. rows of people who added a t-shirt to cart & did or did not begin checkout\n",
    "\n",
    "cart_checkout_rows = len(cart_checkout)\n",
    "\n",
    "cart_checkout_rows"
   ]
  },
  {
   "cell_type": "markdown",
   "metadata": {},
   "source": [
    "What percentage of users put items in their cart, but did not proceed to checkout?"
   ]
  },
  {
   "cell_type": "code",
   "execution_count": 18,
   "metadata": {},
   "outputs": [
    {
     "data": {
      "text/plain": [
       "25.31"
      ]
     },
     "execution_count": 18,
     "metadata": {},
     "output_type": "execute_result"
    }
   ],
   "source": [
    "# percentage of users who put items in their cart, but did not proceed to checkout\n",
    "\n",
    "Null_cart_checkout_percent = (float(Null_cart_checkout) / cart_checkout_rows) * 100\n",
    "\n",
    "round(Null_cart_checkout_percent,2)"
   ]
  },
  {
   "cell_type": "markdown",
   "metadata": {},
   "source": [
    "Merge all four steps of the funnel, in order, using a series of left merges. Save the results to the variable all_data.\n",
    "\n",
    "Examine the result using print and head."
   ]
  },
  {
   "cell_type": "code",
   "execution_count": 19,
   "metadata": {},
   "outputs": [
    {
     "data": {
      "text/html": [
       "<div>\n",
       "<style scoped>\n",
       "    .dataframe tbody tr th:only-of-type {\n",
       "        vertical-align: middle;\n",
       "    }\n",
       "\n",
       "    .dataframe tbody tr th {\n",
       "        vertical-align: top;\n",
       "    }\n",
       "\n",
       "    .dataframe thead th {\n",
       "        text-align: right;\n",
       "    }\n",
       "</style>\n",
       "<table border=\"1\" class=\"dataframe\">\n",
       "  <thead>\n",
       "    <tr style=\"text-align: right;\">\n",
       "      <th></th>\n",
       "      <th>user_id</th>\n",
       "      <th>visit_time</th>\n",
       "      <th>cart_time</th>\n",
       "      <th>checkout_time</th>\n",
       "      <th>purchase_time</th>\n",
       "    </tr>\n",
       "  </thead>\n",
       "  <tbody>\n",
       "    <tr>\n",
       "      <th>0</th>\n",
       "      <td>943647ef-3682-4750-a2e1-918ba6f16188</td>\n",
       "      <td>4/7/2017 15:14</td>\n",
       "      <td>NaN</td>\n",
       "      <td>NaN</td>\n",
       "      <td>NaN</td>\n",
       "    </tr>\n",
       "    <tr>\n",
       "      <th>1</th>\n",
       "      <td>0c3a3dd0-fb64-4eac-bf84-ba069ce409f2</td>\n",
       "      <td>1/26/2017 14:24</td>\n",
       "      <td>1/26/2017 14:44</td>\n",
       "      <td>1/26/2017 14:54</td>\n",
       "      <td>1/26/2017 15:08</td>\n",
       "    </tr>\n",
       "    <tr>\n",
       "      <th>2</th>\n",
       "      <td>6e0b2d60-4027-4d9a-babd-0e7d40859fb1</td>\n",
       "      <td>8/20/2017 8:23</td>\n",
       "      <td>8/20/2017 8:31</td>\n",
       "      <td>NaN</td>\n",
       "      <td>NaN</td>\n",
       "    </tr>\n",
       "    <tr>\n",
       "      <th>3</th>\n",
       "      <td>6879527e-c5a6-4d14-b2da-50b85212b0ab</td>\n",
       "      <td>11/4/2017 18:15</td>\n",
       "      <td>NaN</td>\n",
       "      <td>NaN</td>\n",
       "      <td>NaN</td>\n",
       "    </tr>\n",
       "    <tr>\n",
       "      <th>4</th>\n",
       "      <td>a84327ff-5daa-4ba1-b789-d5b4caf81e96</td>\n",
       "      <td>2/27/2017 11:25</td>\n",
       "      <td>NaN</td>\n",
       "      <td>NaN</td>\n",
       "      <td>NaN</td>\n",
       "    </tr>\n",
       "    <tr>\n",
       "      <th>5</th>\n",
       "      <td>7bc62113-d51d-4e6b-85e0-1cf29e3de74a</td>\n",
       "      <td>6/3/2017 20:05</td>\n",
       "      <td>NaN</td>\n",
       "      <td>NaN</td>\n",
       "      <td>NaN</td>\n",
       "    </tr>\n",
       "    <tr>\n",
       "      <th>6</th>\n",
       "      <td>6f22cd44-bc63-4449-a9af-2651859da2f9</td>\n",
       "      <td>3/18/2017 23:09</td>\n",
       "      <td>NaN</td>\n",
       "      <td>NaN</td>\n",
       "      <td>NaN</td>\n",
       "    </tr>\n",
       "    <tr>\n",
       "      <th>7</th>\n",
       "      <td>49a6399b-c095-4e42-92eb-af90abe2bb6a</td>\n",
       "      <td>1/10/2017 12:09</td>\n",
       "      <td>NaN</td>\n",
       "      <td>NaN</td>\n",
       "      <td>NaN</td>\n",
       "    </tr>\n",
       "    <tr>\n",
       "      <th>8</th>\n",
       "      <td>653c095d-fd74-40dd-ae3b-5a69a2613629</td>\n",
       "      <td>6/27/2017 19:21</td>\n",
       "      <td>NaN</td>\n",
       "      <td>NaN</td>\n",
       "      <td>NaN</td>\n",
       "    </tr>\n",
       "    <tr>\n",
       "      <th>9</th>\n",
       "      <td>3d9fdac1-aae3-4a01-b448-934d12047468</td>\n",
       "      <td>9/24/2017 6:43</td>\n",
       "      <td>NaN</td>\n",
       "      <td>NaN</td>\n",
       "      <td>NaN</td>\n",
       "    </tr>\n",
       "  </tbody>\n",
       "</table>\n",
       "</div>"
      ],
      "text/plain": [
       "                                user_id       visit_time        cart_time  \\\n",
       "0  943647ef-3682-4750-a2e1-918ba6f16188   4/7/2017 15:14              NaN   \n",
       "1  0c3a3dd0-fb64-4eac-bf84-ba069ce409f2  1/26/2017 14:24  1/26/2017 14:44   \n",
       "2  6e0b2d60-4027-4d9a-babd-0e7d40859fb1   8/20/2017 8:23   8/20/2017 8:31   \n",
       "3  6879527e-c5a6-4d14-b2da-50b85212b0ab  11/4/2017 18:15              NaN   \n",
       "4  a84327ff-5daa-4ba1-b789-d5b4caf81e96  2/27/2017 11:25              NaN   \n",
       "5  7bc62113-d51d-4e6b-85e0-1cf29e3de74a   6/3/2017 20:05              NaN   \n",
       "6  6f22cd44-bc63-4449-a9af-2651859da2f9  3/18/2017 23:09              NaN   \n",
       "7  49a6399b-c095-4e42-92eb-af90abe2bb6a  1/10/2017 12:09              NaN   \n",
       "8  653c095d-fd74-40dd-ae3b-5a69a2613629  6/27/2017 19:21              NaN   \n",
       "9  3d9fdac1-aae3-4a01-b448-934d12047468   9/24/2017 6:43              NaN   \n",
       "\n",
       "     checkout_time    purchase_time  \n",
       "0              NaN              NaN  \n",
       "1  1/26/2017 14:54  1/26/2017 15:08  \n",
       "2              NaN              NaN  \n",
       "3              NaN              NaN  \n",
       "4              NaN              NaN  \n",
       "5              NaN              NaN  \n",
       "6              NaN              NaN  \n",
       "7              NaN              NaN  \n",
       "8              NaN              NaN  \n",
       "9              NaN              NaN  "
      ]
     },
     "execution_count": 19,
     "metadata": {},
     "output_type": "execute_result"
    }
   ],
   "source": [
    "all_data = visits.merge(cart, how = 'left').merge(checkout, how = 'left').merge(purchase, how = 'left')\n",
    "\n",
    "all_data.head(10)"
   ]
  },
  {
   "cell_type": "markdown",
   "metadata": {},
   "source": [
    "What percentage of users proceeded to checkout, and purchased a t-shirt?"
   ]
  },
  {
   "cell_type": "code",
   "execution_count": 20,
   "metadata": {},
   "outputs": [
    {
     "data": {
      "text/html": [
       "<div>\n",
       "<style scoped>\n",
       "    .dataframe tbody tr th:only-of-type {\n",
       "        vertical-align: middle;\n",
       "    }\n",
       "\n",
       "    .dataframe tbody tr th {\n",
       "        vertical-align: top;\n",
       "    }\n",
       "\n",
       "    .dataframe thead th {\n",
       "        text-align: right;\n",
       "    }\n",
       "</style>\n",
       "<table border=\"1\" class=\"dataframe\">\n",
       "  <thead>\n",
       "    <tr style=\"text-align: right;\">\n",
       "      <th></th>\n",
       "      <th>user_id</th>\n",
       "      <th>checkout_time</th>\n",
       "      <th>purchase_time</th>\n",
       "    </tr>\n",
       "  </thead>\n",
       "  <tbody>\n",
       "    <tr>\n",
       "      <th>0</th>\n",
       "      <td>d33bdc47-4afa-45bc-b4e4-dbe948e34c0d</td>\n",
       "      <td>6/25/2017 9:29</td>\n",
       "      <td>6/25/2017 9:49</td>\n",
       "    </tr>\n",
       "    <tr>\n",
       "      <th>1</th>\n",
       "      <td>d33bdc47-4afa-45bc-b4e4-dbe948e34c0d</td>\n",
       "      <td>6/25/2017 9:29</td>\n",
       "      <td>6/25/2017 9:56</td>\n",
       "    </tr>\n",
       "    <tr>\n",
       "      <th>2</th>\n",
       "      <td>d33bdc47-4afa-45bc-b4e4-dbe948e34c0d</td>\n",
       "      <td>6/25/2017 9:29</td>\n",
       "      <td>6/25/2017 9:57</td>\n",
       "    </tr>\n",
       "    <tr>\n",
       "      <th>3</th>\n",
       "      <td>4ac186f0-9954-4fea-8a27-c081e428e34e</td>\n",
       "      <td>4/7/2017 20:11</td>\n",
       "      <td>NaN</td>\n",
       "    </tr>\n",
       "    <tr>\n",
       "      <th>4</th>\n",
       "      <td>3c9c78a7-124a-4b77-8d2e-e1926e011e7d</td>\n",
       "      <td>7/13/2017 11:38</td>\n",
       "      <td>NaN</td>\n",
       "    </tr>\n",
       "  </tbody>\n",
       "</table>\n",
       "</div>"
      ],
      "text/plain": [
       "                                user_id    checkout_time   purchase_time\n",
       "0  d33bdc47-4afa-45bc-b4e4-dbe948e34c0d   6/25/2017 9:29  6/25/2017 9:49\n",
       "1  d33bdc47-4afa-45bc-b4e4-dbe948e34c0d   6/25/2017 9:29  6/25/2017 9:56\n",
       "2  d33bdc47-4afa-45bc-b4e4-dbe948e34c0d   6/25/2017 9:29  6/25/2017 9:57\n",
       "3  4ac186f0-9954-4fea-8a27-c081e428e34e   4/7/2017 20:11             NaN\n",
       "4  3c9c78a7-124a-4b77-8d2e-e1926e011e7d  7/13/2017 11:38             NaN"
      ]
     },
     "execution_count": 20,
     "metadata": {},
     "output_type": "execute_result"
    }
   ],
   "source": [
    "checkout_purchase = pd.merge(checkout, purchase, how = 'left')\n",
    "\n",
    "checkout_purchase.head()"
   ]
  },
  {
   "cell_type": "code",
   "execution_count": 21,
   "metadata": {},
   "outputs": [
    {
     "data": {
      "text/plain": [
       "598"
      ]
     },
     "execution_count": 21,
     "metadata": {},
     "output_type": "execute_result"
    }
   ],
   "source": [
    "checkout_purchase_rows = len(checkout_purchase)\n",
    "\n",
    "checkout_purchase_rows"
   ]
  },
  {
   "cell_type": "code",
   "execution_count": 22,
   "metadata": {},
   "outputs": [
    {
     "data": {
      "text/html": [
       "<div>\n",
       "<style scoped>\n",
       "    .dataframe tbody tr th:only-of-type {\n",
       "        vertical-align: middle;\n",
       "    }\n",
       "\n",
       "    .dataframe tbody tr th {\n",
       "        vertical-align: top;\n",
       "    }\n",
       "\n",
       "    .dataframe thead th {\n",
       "        text-align: right;\n",
       "    }\n",
       "</style>\n",
       "<table border=\"1\" class=\"dataframe\">\n",
       "  <thead>\n",
       "    <tr style=\"text-align: right;\">\n",
       "      <th></th>\n",
       "      <th>user_id</th>\n",
       "      <th>checkout_time</th>\n",
       "      <th>purchase_time</th>\n",
       "    </tr>\n",
       "  </thead>\n",
       "  <tbody>\n",
       "    <tr>\n",
       "      <th>0</th>\n",
       "      <td>d33bdc47-4afa-45bc-b4e4-dbe948e34c0d</td>\n",
       "      <td>6/25/2017 9:29</td>\n",
       "      <td>6/25/2017 9:49</td>\n",
       "    </tr>\n",
       "    <tr>\n",
       "      <th>1</th>\n",
       "      <td>d33bdc47-4afa-45bc-b4e4-dbe948e34c0d</td>\n",
       "      <td>6/25/2017 9:29</td>\n",
       "      <td>6/25/2017 9:56</td>\n",
       "    </tr>\n",
       "    <tr>\n",
       "      <th>2</th>\n",
       "      <td>d33bdc47-4afa-45bc-b4e4-dbe948e34c0d</td>\n",
       "      <td>6/25/2017 9:29</td>\n",
       "      <td>6/25/2017 9:57</td>\n",
       "    </tr>\n",
       "    <tr>\n",
       "      <th>5</th>\n",
       "      <td>89fe330a-8966-4756-8f7c-3bdbcd47279a</td>\n",
       "      <td>4/20/2017 16:15</td>\n",
       "      <td>4/20/2017 16:15</td>\n",
       "    </tr>\n",
       "    <tr>\n",
       "      <th>6</th>\n",
       "      <td>3ccdaf69-2d30-40de-b083-51372881aedd</td>\n",
       "      <td>1/8/2017 20:52</td>\n",
       "      <td>1/8/2017 21:02</td>\n",
       "    </tr>\n",
       "  </tbody>\n",
       "</table>\n",
       "</div>"
      ],
      "text/plain": [
       "                                user_id    checkout_time    purchase_time\n",
       "0  d33bdc47-4afa-45bc-b4e4-dbe948e34c0d   6/25/2017 9:29   6/25/2017 9:49\n",
       "1  d33bdc47-4afa-45bc-b4e4-dbe948e34c0d   6/25/2017 9:29   6/25/2017 9:56\n",
       "2  d33bdc47-4afa-45bc-b4e4-dbe948e34c0d   6/25/2017 9:29   6/25/2017 9:57\n",
       "5  89fe330a-8966-4756-8f7c-3bdbcd47279a  4/20/2017 16:15  4/20/2017 16:15\n",
       "6  3ccdaf69-2d30-40de-b083-51372881aedd   1/8/2017 20:52   1/8/2017 21:02"
      ]
     },
     "execution_count": 22,
     "metadata": {},
     "output_type": "execute_result"
    }
   ],
   "source": [
    "# showing the clients who completed checkout and purchased a t-shirt \n",
    "\n",
    "Made_checkout_purchase = checkout_purchase[~checkout_purchase.purchase_time.isnull()]\n",
    "\n",
    "Made_checkout_purchase.head(5)"
   ]
  },
  {
   "cell_type": "code",
   "execution_count": 23,
   "metadata": {},
   "outputs": [
    {
     "data": {
      "text/plain": [
       "497"
      ]
     },
     "execution_count": 23,
     "metadata": {},
     "output_type": "execute_result"
    }
   ],
   "source": [
    "# finding the total number of people who completed checkout and made a purchase \n",
    "\n",
    "Made_checkout_purchase = len(checkout_purchase[~checkout_purchase.purchase_time.isnull()])\n",
    "\n",
    "Made_checkout_purchase "
   ]
  },
  {
   "cell_type": "code",
   "execution_count": 24,
   "metadata": {},
   "outputs": [
    {
     "data": {
      "text/plain": [
       "83.11"
      ]
     },
     "execution_count": 24,
     "metadata": {},
     "output_type": "execute_result"
    }
   ],
   "source": [
    "# percentage of users proceeded to checkout, and purchased a t-shirt\n",
    "\n",
    "Made_checkout_purchase_percent = (float(Made_checkout_purchase) / checkout_purchase_rows) * 100\n",
    "\n",
    "round(Made_checkout_purchase_percent, 2)"
   ]
  },
  {
   "cell_type": "markdown",
   "metadata": {},
   "source": [
    "Which step of the funnel is weakest (i.e., has the highest percentage of users not completing it)?\n",
    "\n",
    "How might Cool T-Shirts Inc. change their website to fix this problem?"
   ]
  },
  {
   "cell_type": "markdown",
   "metadata": {},
   "source": [
    "##### Answer:\n",
    "The first step of the funnel is weakest since it has the highest percentage of users **(82.6)** not completing it.\n",
    "\n",
    "Cool T-Shirts Inc. can change their website to fix this problem by enticing visitors with 'goodies' such as product discounts, free gifts or samples for visitors who proceed and complete the whole funnel process."
   ]
  }
 ],
 "metadata": {
  "kernelspec": {
   "display_name": "Python 3",
   "language": "python",
   "name": "python3"
  },
  "language_info": {
   "codemirror_mode": {
    "name": "ipython",
    "version": 3
   },
   "file_extension": ".py",
   "mimetype": "text/x-python",
   "name": "python",
   "nbconvert_exporter": "python",
   "pygments_lexer": "ipython3",
   "version": "3.8.3"
  }
 },
 "nbformat": 4,
 "nbformat_minor": 4
}
